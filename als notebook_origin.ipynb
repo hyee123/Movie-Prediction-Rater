{
 "cells": [
  {
   "cell_type": "code",
   "execution_count": 1,
   "metadata": {},
   "outputs": [],
   "source": [
    "import numpy as np\n",
    "import pandas as pd\n",
    "from sklearn.linear_model import LinearRegression\n",
    "from sklearn import tree\n",
    "\n",
    "from surprise import KNNBasic\n",
    "from surprise import Dataset\n",
    "from surprise import Reader\n",
    "from surprise.model_selection import train_test_split\n",
    "from surprise import accuracy\n",
    "from surprise import BaselineOnly\n",
    "from surprise import SVD\n",
    "\n",
    "import time"
   ]
  },
  {
   "cell_type": "code",
   "execution_count": 2,
   "metadata": {},
   "outputs": [],
   "source": [
    "# Reads the data from CSV files, converts it into Dataframe and returns x and y dataframes\n",
    "def getTrainDataframe(filePath):\n",
    "    dataframe = pd.read_csv(filePath)\n",
    "    y = dataframe['rating']\n",
    "    x = dataframe.drop('rating', axis=1)\n",
    "    return x, y\n",
    "\n",
    "\n",
    "# Reads the data from CSV files, converts it into Dataframe and returns x and y dataframes\n",
    "def getTestDataframe(filePath):\n",
    "    dataframe = pd.read_csv(filePath)\n",
    "    ids = dataframe['Id']\n",
    "    user = dataframe['userId']\n",
    "    movies = dataframe['movieId']\n",
    "\n",
    "    return ids, user, movies\n",
    "\n",
    "\n",
    "# predicted_y and test_y are the predicted and actual y values respectively as numpy arrays\n",
    "# function prints the mean squared error value for the test dataset\n",
    "def compute_rmse(predicted_y, y):\n",
    "    rmse = np.sum((predicted_y - y)**2)/predicted_y.shape[0]\n",
    "    return np.sqrt(rmse)"
   ]
  },
  {
   "cell_type": "code",
   "execution_count": 3,
   "metadata": {},
   "outputs": [
    {
     "name": "stdout",
     "output_type": "stream",
     "text": [
      "<class 'surprise.trainset.Trainset'>\n",
      "('82766', '2643.0', 3.0)\n",
      "('1', '4993.0', 0.0)\n"
     ]
    }
   ],
   "source": [
    "train_file = 'train_ratings.csv'\n",
    "val_file = 'val_ratings.csv'\n",
    "test_file = 'test_ratings.csv'\n",
    "\n",
    "val_x, val_y = getTrainDataframe(val_file)\n",
    "test_ids, test_users, test_movies = getTestDataframe(test_file)\n",
    "\n",
    "reader = Reader(line_format='user item rating', sep=',', skip_lines=1)\n",
    "train_data = Dataset.load_from_file(train_file, reader)\n",
    "#self.full_trainset = train_data.build_full_trainset()\n",
    "trainset, gobruins = train_test_split(train_data, test_size=0.001)\n",
    "print(type(trainset))\n",
    "\n",
    "val_data = Dataset.load_from_file(val_file, reader)\n",
    "gobruins, valset = train_test_split(val_data, test_size=1.0)\n",
    "print(valset[0])\n",
    "\n",
    "d = {'1user': [str(item) for item in test_users], '2item': [str(item) for item in test_movies], '3rating': test_ids}\n",
    "df = pd.DataFrame(data=d)\n",
    "#print(df)\n",
    "test_data = Dataset.load_from_df(df, reader)\n",
    "test_trainset = test_data.build_full_trainset()\n",
    "testset = test_trainset.build_testset()\n",
    "\n",
    "print(testset[0])    "
   ]
  },
  {
   "cell_type": "code",
   "execution_count": 6,
   "metadata": {},
   "outputs": [
    {
     "name": "stdout",
     "output_type": "stream",
     "text": [
      "Starting training\n",
      "Model Trained, took  2802.852623939514\n"
     ]
    }
   ],
   "source": [
    "print(\"Starting training\")\n",
    "\n",
    "als = SVD(n_epochs = 27,n_factors = 90, lr_all = 0.00645, reg_all = 0.0298)\n",
    "start = time.time()\n",
    "als.fit(trainset)\n",
    "end = time.time()\n",
    "print(\"Model Trained, took \", end - start)"
   ]
  },
  {
   "cell_type": "code",
   "execution_count": 7,
   "metadata": {},
   "outputs": [
    {
     "name": "stdout",
     "output_type": "stream",
     "text": [
      "RMSE: 0.8117\n",
      "Validation RMSE:  0.8117295643453344 , took  186.5482838153839\n"
     ]
    }
   ],
   "source": [
    "\n",
    "start = time.time()\n",
    "predictions = als.test(valset, verbose=False)\n",
    "end = time.time()\n",
    "rmse = accuracy.rmse(predictions)\n",
    "print(\"Validation RMSE: \", rmse, \", took \", end - start)"
   ]
  },
  {
   "cell_type": "code",
   "execution_count": 8,
   "metadata": {},
   "outputs": [
    {
     "name": "stdout",
     "output_type": "stream",
     "text": [
      "Predicted test values, took  89.97021007537842\n"
     ]
    }
   ],
   "source": [
    "start = time.time()\n",
    "predicted_y = als.test(testset, verbose=False)\n",
    "end = time.time()\n",
    "print(\"Predicted test values, took \", end - start)"
   ]
  },
  {
   "cell_type": "code",
   "execution_count": 9,
   "metadata": {},
   "outputs": [
    {
     "name": "stdout",
     "output_type": "stream",
     "text": [
      "Logged\n"
     ]
    }
   ],
   "source": [
    "file_name = \"SVDv2.1\"\n",
    "\n",
    "predicted_y_est = [item[3] for item in predicted_y]\n",
    "\n",
    "d = {'Id': test_ids.values, 'rating': predicted_y_est}\n",
    "df = pd.DataFrame(data=d)\n",
    "df.to_csv(file_name + \"_output.csv\", index=None)\n",
    "print(\"Logged\")"
   ]
  },
  {
   "cell_type": "code",
   "execution_count": null,
   "metadata": {},
   "outputs": [],
   "source": []
  },
  {
   "cell_type": "code",
   "execution_count": null,
   "metadata": {},
   "outputs": [],
   "source": []
  }
 ],
 "metadata": {
  "kernelspec": {
   "display_name": "36v2",
   "language": "python",
   "name": "36v2"
  },
  "language_info": {
   "codemirror_mode": {
    "name": "ipython",
    "version": 3
   },
   "file_extension": ".py",
   "mimetype": "text/x-python",
   "name": "python",
   "nbconvert_exporter": "python",
   "pygments_lexer": "ipython3",
   "version": "3.6.7"
  }
 },
 "nbformat": 4,
 "nbformat_minor": 2
}
